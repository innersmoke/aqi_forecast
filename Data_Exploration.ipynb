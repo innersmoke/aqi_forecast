{
  "nbformat": 4,
  "nbformat_minor": 0,
  "metadata": {
    "colab": {
      "provenance": []
    },
    "kernelspec": {
      "name": "python3",
      "display_name": "Python 3"
    },
    "language_info": {
      "name": "python"
    }
  },
  "cells": [
    {
      "cell_type": "code",
      "source": [
        "import pandas as pd\n",
        "import matplotlib.pyplot as plt\n",
        "from statsmodels.tsa.seasonal import STL\n",
        "import numpy as np"
      ],
      "metadata": {
        "id": "TS8LepHTjTMt"
      },
      "execution_count": null,
      "outputs": []
    },
    {
      "cell_type": "code",
      "source": [
        "# Load the dataset\n",
        "file_path = '/content/explore_pearse_street.csv'\n",
        "data = pd.read_csv(file_path)\n",
        "\n",
        "# Count the number of empty rows in each column\n",
        "empty_rows_per_column = data.isnull().sum()\n",
        "print(f\"Number of empty rows per column: {empty_rows_per_column}\")"
      ],
      "metadata": {
        "id": "jQK6jIDajpCi"
      },
      "execution_count": null,
      "outputs": []
    },
    {
      "cell_type": "code",
      "source": [
        "# Distribution of PM10 data\n",
        "plt.figure(figsize=(10, 6))\n",
        "data['PM10'].dropna().hist(bins=50, edgecolor='black')\n",
        "plt.title('Distribution of PM10 Data')\n",
        "plt.xlabel('PM10')\n",
        "plt.ylabel('Frequency')\n",
        "plt.grid(False)\n",
        "plt.show()"
      ],
      "metadata": {
        "id": "9QqfT7z3jyr5"
      },
      "execution_count": null,
      "outputs": []
    },
    {
      "cell_type": "code",
      "source": [
        "# PM10 data by hour (max and min values)\n",
        "data['Date and Time'] = pd.to_datetime(data['Date and Time'], infer_datetime_format=True,dayfirst=True, utc=True, errors='coerce')\n",
        "data['Hour'] = data['Date and Time'].dt.hour\n",
        "\n",
        "pm10_by_hour = data.groupby('Hour')['PM10'].agg(['max', 'min']).reset_index()\n",
        "\n",
        "plt.figure(figsize=(12, 6))\n",
        "plt.plot(pm10_by_hour['Hour'], pm10_by_hour['max'], marker='o', linestyle='-', label='Max PM10')\n",
        "plt.plot(pm10_by_hour['Hour'], pm10_by_hour['min'], marker='o', linestyle='-', label='Min PM10')\n",
        "plt.title('Max and Min PM10 Values by Hour')\n",
        "plt.xlabel('Hour of the Day')\n",
        "plt.ylabel('PM10')\n",
        "plt.legend()\n",
        "plt.grid(True)\n",
        "plt.show()"
      ],
      "metadata": {
        "id": "dVNhZ8rMj1jS"
      },
      "execution_count": null,
      "outputs": []
    },
    {
      "cell_type": "code",
      "source": [
        "# Average PM10 levels by hour\n",
        "avg_pm10_by_hour = data.groupby('Hour')['PM10'].mean().reset_index()\n",
        "\n",
        "plt.figure(figsize=(12, 6))\n",
        "plt.plot(avg_pm10_by_hour['Hour'], avg_pm10_by_hour['PM10'], marker='o', linestyle='-', label='Average PM10')\n",
        "plt.title('Average PM10 Levels by Hour')\n",
        "plt.xlabel('Hour of the Day')\n",
        "plt.ylabel('Average PM10')\n",
        "plt.legend()\n",
        "plt.grid(True)\n",
        "plt.show()\n"
      ],
      "metadata": {
        "id": "44Do_OQjliTW"
      },
      "execution_count": null,
      "outputs": []
    },
    {
      "cell_type": "code",
      "source": [
        "# PM10 levels by day of the week\n",
        "data['DayOfWeek'] = data['Date and Time'].dt.dayofweek\n",
        "\n",
        "avg_pm10_by_day = data.groupby('DayOfWeek')['PM10'].mean().reset_index()\n",
        "\n",
        "days = {0: 'Monday', 1: 'Tuesday', 2: 'Wednesday', 3: 'Thursday', 4: 'Friday', 5: 'Saturday', 6: 'Sunday'}\n",
        "avg_pm10_by_day['DayOfWeek'] = avg_pm10_by_day['DayOfWeek'].map(days)\n",
        "\n",
        "plt.figure(figsize=(12, 6))\n",
        "plt.plot(avg_pm10_by_day['DayOfWeek'], avg_pm10_by_day['PM10'], marker='o', linestyle='-', label='Average PM10')\n",
        "plt.title('Average PM10 Levels by Day of the Week')\n",
        "plt.xlabel('Day of the Week')\n",
        "plt.ylabel('Average PM10')\n",
        "plt.legend()\n",
        "plt.grid(True)\n",
        "plt.show()"
      ],
      "metadata": {
        "id": "-VDWAsd5llJ4"
      },
      "execution_count": null,
      "outputs": []
    },
    {
      "cell_type": "code",
      "source": [
        "# Highest daily average of PM10\n",
        "daily_avg_pm10 = data.groupby(data['Date and Time'].dt.date)['PM10'].mean().reset_index()\n",
        "highest_daily_avg_pm10 = daily_avg_pm10.loc[daily_avg_pm10['PM10'].idxmax()]\n",
        "print(highest_daily_avg_pm10)"
      ],
      "metadata": {
        "id": "hEA_VuTNl713"
      },
      "execution_count": null,
      "outputs": []
    },
    {
      "cell_type": "code",
      "source": [
        "# PM10 trends over months\n",
        "data['Month'] = data['Date and Time'].dt.to_period('M')\n",
        "avg_pm10_by_month = data.groupby('Month')['PM10'].mean().reset_index()\n",
        "avg_pm10_by_month['Month'] = avg_pm10_by_month['Month'].dt.to_timestamp()\n",
        "\n",
        "plt.figure(figsize=(12, 6))\n",
        "plt.plot(avg_pm10_by_month['Month'], avg_pm10_by_month['PM10'], marker='o', linestyle='-', label='Average PM10')\n",
        "plt.title('Average PM10 Levels by Month')\n",
        "plt.xlabel('Month')\n",
        "plt.ylabel('Average PM10')\n",
        "plt.legend()\n",
        "plt.grid(True)\n",
        "plt.show()"
      ],
      "metadata": {
        "id": "XT70Oyfal_j8"
      },
      "execution_count": null,
      "outputs": []
    },
    {
      "cell_type": "code",
      "source": [
        "# Number of outliers in PM10\n",
        "Q1 = data['PM10'].quantile(0.25)\n",
        "Q3 = data['PM10'].quantile(0.75)\n",
        "IQR = Q3 - Q1\n",
        "lower_bound = Q1 - 1.5 * IQR\n",
        "upper_bound = Q3 + 1.5 * IQR\n",
        "outliers = data[(data['PM10'] < lower_bound) | (data['PM10'] > upper_bound)]\n",
        "num_outliers = outliers.shape[0]\n",
        "print(num_outliers)"
      ],
      "metadata": {
        "id": "KevVF-fNmEh0"
      },
      "execution_count": null,
      "outputs": []
    },
    {
      "cell_type": "code",
      "source": [
        "# Drop rows with any missing values\n",
        "cleaned_data = data.dropna()\n",
        "cleaned_data_shape = cleaned_data.shape\n",
        "print(cleaned_data_shape)\n",
        "\n",
        "# Columns in the cleaned dataset\n",
        "cleaned_data_columns = cleaned_data.columns.tolist()\n",
        "print(cleaned_data_columns)\n",
        "\n",
        "# Plot distributions of all pollutants\n",
        "plt.figure(figsize=(16, 12))\n",
        "plt.subplot(2, 2, 1)\n",
        "cleaned_data['NO2'].hist(bins=50, edgecolor='black')\n",
        "plt.title('Distribution of NO2')\n",
        "plt.xlabel('NO2')\n",
        "plt.ylabel('Frequency')\n",
        "\n",
        "#plt.subplot(2, 2, 2)\n",
        "#cleaned_data['O3'].hist(bins=50, edgecolor='black')\n",
        "#plt.title('Distribution of O3')\n",
        "#plt.xlabel('O3')\n",
        "#plt.ylabel('Frequency')\n",
        "\n",
        "plt.subplot(2, 2, 3)\n",
        "cleaned_data['PM10'].hist(bins=50, edgecolor='black')\n",
        "plt.title('Distribution of PM10')\n",
        "plt.xlabel('PM10')\n",
        "plt.ylabel('Frequency')\n",
        "\n",
        "plt.subplot(2, 2, 4)\n",
        "cleaned_data['PM2.5'].hist(bins=50, edgecolor='black')\n",
        "plt.title('Distribution of PM2.5')\n",
        "plt.xlabel('PM2.5')\n",
        "plt.ylabel('Frequency')\n",
        "\n",
        "plt.tight_layout()\n",
        "plt.show()"
      ],
      "metadata": {
        "id": "7U5Pr7NDmHne"
      },
      "execution_count": null,
      "outputs": []
    },
    {
      "cell_type": "code",
      "source": [
        "# Seasonal decomposition of PM10 data\n",
        "cleaned_data = cleaned_data.sort_values('Date and Time')\n",
        "cleaned_data.set_index('Date and Time', inplace=True)\n",
        "stl = STL(cleaned_data['PM10'], period=24)\n",
        "result = stl.fit()\n",
        "\n",
        "plt.figure(figsize=(14, 10))\n",
        "plt.subplot(4, 1, 1)\n",
        "plt.plot(result.observed)\n",
        "plt.title('Observed PM10')\n",
        "\n",
        "plt.subplot(4, 1, 2)\n",
        "plt.plot(result.trend)\n",
        "plt.title('Trend')\n",
        "\n",
        "plt.subplot(4, 1, 3)\n",
        "plt.plot(result.seasonal)\n",
        "plt.title('Seasonal')\n",
        "\n",
        "plt.subplot(4, 1, 4)\n",
        "plt.plot(result.resid)\n",
        "plt.title('Residual')\n",
        "\n",
        "plt.tight_layout()\n",
        "plt.show()"
      ],
      "metadata": {
        "id": "23leWR96mOgF"
      },
      "execution_count": null,
      "outputs": []
    },
    {
      "cell_type": "code",
      "source": [
        "# Summary statistics for PM10\n",
        "summary_stats = cleaned_data['PM10'].describe()\n",
        "percentiles = cleaned_data['PM10'].quantile([0.1, 0.25, 0.5, 0.75, 0.9])\n",
        "summary_stats_combined = pd.concat([summary_stats, percentiles.rename(index={0.1: '10%', 0.25: '25%', 0.5: '50%', 0.75: '75%', 0.9: '90%'})])\n",
        "print(summary_stats_combined)"
      ],
      "metadata": {
        "id": "toMEDe3tmS8e"
      },
      "execution_count": null,
      "outputs": []
    },
    {
      "cell_type": "code",
      "source": [
        "# Save the filtered dataframe to a CSV file\n",
        "filtered_csv_path = 'process_amiens_street_data.csv'\n",
        "cleaned_data.to_csv(filtered_csv_path)\n",
        "\n",
        "# If running in Google Colab, use the following code to download the CSV file:\n",
        "from google.colab import files\n",
        "files.download(filtered_csv_path)"
      ],
      "metadata": {
        "id": "lSdxgKLRn1_T"
      },
      "execution_count": null,
      "outputs": []
    }
  ]
}